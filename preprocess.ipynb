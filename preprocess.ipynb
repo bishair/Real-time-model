{
  "nbformat": 4,
  "nbformat_minor": 0,
  "metadata": {
    "colab": {
      "provenance": [],
      "authorship_tag": "ABX9TyN0PSkbjYLoxVYuxMTusbyt",
      "include_colab_link": true
    },
    "kernelspec": {
      "name": "python3",
      "display_name": "Python 3"
    },
    "language_info": {
      "name": "python"
    }
  },
  "cells": [
    {
      "cell_type": "markdown",
      "metadata": {
        "id": "view-in-github",
        "colab_type": "text"
      },
      "source": [
        "<a href=\"https://colab.research.google.com/github/bishair/Real-time-model/blob/main/preprocess.ipynb\" target=\"_parent\"><img src=\"https://colab.research.google.com/assets/colab-badge.svg\" alt=\"Open In Colab\"/></a>"
      ]
    },
    {
      "cell_type": "code",
      "execution_count": null,
      "metadata": {
        "id": "JpKd3XKjTmD6"
      },
      "outputs": [],
      "source": [
        "# prompt: lstm model\n",
        "\n",
        "import numpy as np\n",
        "import pandas as pd\n",
        "import tensorflow as tf\n",
        "\n",
        "# Load the data\n",
        "data = pd.read_csv('data.csv')\n",
        "\n",
        "# Split the data into training and testing sets\n",
        "train_data = data[:int(len(data) * 0.8)]\n",
        "test_data = data[int(len(data) * 0.8):]\n",
        "\n",
        "# Create the LSTM model\n",
        "model = tf.keras.models.Sequential()\n",
        "model.add(tf.keras.layers.LSTM(units=128, return_sequences=True))\n",
        "model.add(tf.keras.layers.LSTM(units=128))\n",
        "model.add(tf.keras.layers.Dense(units=1))\n",
        "\n",
        "# Compile the model\n",
        "model.compile(optimizer='adam', loss='mean_squared_error')\n",
        "\n",
        "# Train the model\n",
        "model.fit(train_data, epochs=100)\n",
        "\n",
        "# Evaluate the model\n",
        "model.evaluate(test_data)\n",
        "\n",
        "# Save the model\n",
        "model.save('model.h5')\n"
      ]
    }
  ]
}